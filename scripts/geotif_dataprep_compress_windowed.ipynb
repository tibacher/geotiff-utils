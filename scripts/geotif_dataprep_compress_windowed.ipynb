{
 "cells": [
  {
   "cell_type": "markdown",
   "metadata": {},
   "source": [
    "### This is a Notebook for compressing a big geotiff (for Large files)"
   ]
  },
  {
   "cell_type": "code",
   "execution_count": 26,
   "metadata": {},
   "outputs": [],
   "source": [
    "import os\n",
    "import numpy as np\n",
    "\n",
    "import rasterio as rio\n",
    "import rasterio.warp\n",
    "import rasterio.mask\n",
    "\n",
    "import matplotlib.pyplot as plt\n",
    "import rasterio.plot as plot\n",
    "\n"
   ]
  },
  {
   "cell_type": "code",
   "execution_count": 27,
   "metadata": {},
   "outputs": [],
   "source": [
    "import os\n",
    "import sys\n",
    "\n",
    "ROOT_DIR = os.path.abspath(\"../\")\n",
    "sys.path.append(ROOT_DIR)\n",
    "\n",
    "from utils import transformation,file_io"
   ]
  },
  {
   "cell_type": "code",
   "execution_count": 28,
   "metadata": {},
   "outputs": [],
   "source": [
    "in_dir = '/Users/TimSchäfer/OneDrive - RSRG/10_RC_Daten/Cogito-Daten/RC_Cogito/01_Drohnendaten_Orthofotos/20220824/'\n",
    "in_filename = 'mosaic_model.tif'\n",
    "\n",
    "in_path = os.path.join(in_dir, in_filename)\n",
    "\n",
    "out_dir = in_dir + '/'\n",
    "out_filename = os.path.splitext(os.path.basename(in_filename))[0] +\"_compressed_2.tif\"\n",
    "\n",
    "# check if dir exists\n",
    "file_io.check_and_create_dir(out_dir)\n",
    "\n",
    "out_path = os.path.join(out_dir, out_filename)\n"
   ]
  },
  {
   "cell_type": "code",
   "execution_count": 29,
   "metadata": {},
   "outputs": [],
   "source": [
    "inds = rio.open(in_path)\n",
    "\n"
   ]
  },
  {
   "cell_type": "code",
   "execution_count": 30,
   "metadata": {},
   "outputs": [],
   "source": [
    "\n",
    "\n",
    "window_list = [(ji,window) for ji, window in inds.block_windows()]\n",
    "\n",
    "out_meta = inds.meta.copy()\n",
    "\n",
    "\n",
    "out_meta.update({\"driver\": \"GTiff\",\n",
    "                 \"height\": inds.shape[0],\n",
    "                 \"width\": inds.shape[1],\n",
    "                 \"transform\": inds.transform})\n",
    "\n",
    "\n",
    "# arguments for output file\n",
    "kwds={}\n",
    "kwds['tiled'] = True\n",
    "kwds['blockxsize'] = 512\n",
    "kwds['blockysize'] = 512\n",
    "\n",
    "# uncomment for jpg here\n",
    "kwds['photometric'] = 'YCbCr'\n",
    "kwds['compress'] = 'JPEG'\n",
    "\n",
    "with rio.open(out_path, \"w\", **out_meta,**kwds) as dest:\n",
    "    for ji,sel_window in window_list:\n",
    "        w = inds.read(window=sel_window)\n",
    "        dest.write(w,window=sel_window)\n",
    "\n",
    "\n",
    "\n"
   ]
  }
 ],
 "metadata": {
  "kernelspec": {
   "display_name": "py38-playground",
   "language": "python",
   "name": "py38-playground"
  },
  "language_info": {
   "codemirror_mode": {
    "name": "ipython",
    "version": 3
   },
   "file_extension": ".py",
   "mimetype": "text/x-python",
   "name": "python",
   "nbconvert_exporter": "python",
   "pygments_lexer": "ipython3",
   "version": "3.8.10"
  },
  "orig_nbformat": 4
 },
 "nbformat": 4,
 "nbformat_minor": 2
}
